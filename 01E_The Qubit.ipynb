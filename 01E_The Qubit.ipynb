{
 "cells": [
  {
   "cell_type": "markdown",
   "metadata": {},
   "source": [
    "# The Qubit"
   ]
  },
  {
   "cell_type": "markdown",
   "metadata": {},
   "source": [
    "## Create the simpler Circuit\n",
    "\n",
    "To work with qubits we need a Quantum Circuit.\n",
    "\n",
    "We will create a Quantum Circuit with only one qubit:"
   ]
  },
  {
   "cell_type": "code",
   "execution_count": null,
   "metadata": {},
   "outputs": [],
   "source": [
    "from qiskit import QuantumCircuit\n",
    "\n",
    "qc = QuantumCircuit(1)"
   ]
  },
  {
   "cell_type": "markdown",
   "metadata": {},
   "source": [
    "Print the Circuit"
   ]
  },
  {
   "cell_type": "code",
   "execution_count": null,
   "metadata": {},
   "outputs": [],
   "source": [
    "print(qc)"
   ]
  },
  {
   "cell_type": "markdown",
   "metadata": {},
   "source": [
    "Plot the Circuit"
   ]
  },
  {
   "cell_type": "code",
   "execution_count": null,
   "metadata": {},
   "outputs": [],
   "source": [
    "qc.draw()"
   ]
  },
  {
   "cell_type": "markdown",
   "metadata": {},
   "source": [
    "The current situation of the circuit is represented by it's State Vector. \n",
    "\n",
    "Similar to bits that have a value, meaning a current state (0 / 1), and has no memory of how it get to that value, Quantum circuits have a \"value\" that is the Statevector (an also they don't know how they have reached there)\n",
    "\n",
    "Let's see the initial Statevector for our circuit:"
   ]
  },
  {
   "cell_type": "code",
   "execution_count": null,
   "metadata": {},
   "outputs": [],
   "source": [
    "from qiskit import quantum_info\n",
    "\n",
    "initial_state = quantum_info.Statevector.from_instruction(qc)\n",
    "initial_state.draw('latex')"
   ]
  },
  {
   "cell_type": "markdown",
   "metadata": {},
   "source": [
    "We use the Dirac notation to name this vector as |0> meaning it is the State with all quibits at 100% probability to be measured 0.\n",
    "\n",
    "As we have 1 qubits, we have a statevector of 2 dimensions.\n",
    "\n",
    "We can think in this vector a a column with the probabilities of measuring 0 and 1"
   ]
  },
  {
   "cell_type": "code",
   "execution_count": null,
   "metadata": {},
   "outputs": [],
   "source": [
    "initial_state"
   ]
  },
  {
   "cell_type": "markdown",
   "metadata": {},
   "source": [
    "**Note:** Python uses `j` to represent $i$ in complex numbers. We see a vector with two complex elements: `0.+0.j` = 0, and `1.+0.j` = 1."
   ]
  },
  {
   "cell_type": "code",
   "execution_count": null,
   "metadata": {},
   "outputs": [],
   "source": [
    "from qiskit_textbook.tools import array_to_latex\n",
    "\n",
    "array_to_latex(initial_state, pretext=\"|0\\\\rangle =\")"
   ]
  },
  {
   "cell_type": "markdown",
   "metadata": {},
   "source": [
    "## Superposition"
   ]
  },
  {
   "cell_type": "markdown",
   "metadata": {
    "tags": []
   },
   "source": [
    "Add H Gate"
   ]
  },
  {
   "cell_type": "code",
   "execution_count": null,
   "metadata": {},
   "outputs": [],
   "source": [
    "qc.h(0) # Put qubit a into state |+>"
   ]
  },
  {
   "cell_type": "markdown",
   "metadata": {},
   "source": [
    "Print the Circuit"
   ]
  },
  {
   "cell_type": "code",
   "execution_count": null,
   "metadata": {},
   "outputs": [],
   "source": [
    "# **** ADD YOUR CODE HERE ***\n",
    "\n",
    "# ***************************"
   ]
  },
  {
   "cell_type": "markdown",
   "metadata": {},
   "source": [
    "Plot the Circuit"
   ]
  },
  {
   "cell_type": "code",
   "execution_count": null,
   "metadata": {},
   "outputs": [],
   "source": [
    "# **** ADD YOUR CODE HERE ***\n",
    "\n",
    "# ***************************"
   ]
  },
  {
   "cell_type": "markdown",
   "metadata": {},
   "source": [
    "Let's see the state of the circuit after the hadamar gate"
   ]
  },
  {
   "cell_type": "code",
   "execution_count": null,
   "metadata": {},
   "outputs": [],
   "source": [
    "# **** ADD YOUR CODE HERE ***\n",
    "\n",
    "# ***************************\n",
    "array_to_latex(psi.data, pretext=\"|\\\\psi\\\\rangle =\")"
   ]
  },
  {
   "cell_type": "markdown",
   "metadata": {},
   "source": [
    "This is a superposition state.\n",
    "\n",
    "\n",
    "After the H gate, the qubit has 50% provability of been measured 0 and 50% of been measured 1.\n",
    "\n",
    "\n",
    "As you can see, the probabilities are the square of the coeficients in the Statevector.\n",
    "\n",
    "\n",
    "The summ of all probabilities is always 1, so the module of this Statevector must be 1."
   ]
  },
  {
   "cell_type": "markdown",
   "metadata": {},
   "source": [
    "## QASM Simulator"
   ]
  },
  {
   "cell_type": "markdown",
   "metadata": {},
   "source": [
    "This kind of simulators try to mimic the behaviour of a real queantum computer. In this case this is a \"perfect\" (== without noise) Quantum Computer\n",
    "\n",
    "One important aspect of dealing with real quantum computers is that we need to measure the qubits, becayse in a real quantum computer, we only can read the classical registers, remember, Statevectors cannot be seen."
   ]
  },
  {
   "cell_type": "code",
   "execution_count": null,
   "metadata": {},
   "outputs": [],
   "source": [
    "qc.measure_all()\n",
    "qc.draw()"
   ]
  },
  {
   "cell_type": "markdown",
   "metadata": {},
   "source": [
    "Let's execute the circuit.\n",
    "\n",
    "It is important that we need a new parameter, the number of shots.\n",
    "\n",
    "If we execute the circuit only once (shots=1), we'll get a measure, only one.(i.e. 0)\n",
    "\n",
    "In order to understan the probability distribition of the possible outcomes of the measute of the circuit, we have to make this many times aand \"count\" the results"
   ]
  },
  {
   "cell_type": "code",
   "execution_count": null,
   "metadata": {},
   "outputs": [],
   "source": [
    "from qiskit import Aer\n",
    "\n",
    "backend = Aer.get_backend('qasm_simulator')\n",
    "job_exp = backend.run(qc, memory=True, shots=2000)\n",
    "\n",
    "exp_result = job_exp.result()\n",
    "exp_measurement_result = exp_result.get_counts(qc)\n",
    "print(exp_measurement_result)\n"
   ]
  },
  {
   "cell_type": "markdown",
   "metadata": {},
   "source": [
    "It is easy to interpret this results as an histogram"
   ]
  },
  {
   "cell_type": "code",
   "execution_count": null,
   "metadata": {},
   "outputs": [],
   "source": [
    "from qiskit import visualization\n",
    "\n",
    "visualization.plot_histogram(exp_measurement_result)"
   ]
  },
  {
   "cell_type": "markdown",
   "metadata": {},
   "source": [
    "An alternative is to import directly the function"
   ]
  },
  {
   "cell_type": "code",
   "execution_count": null,
   "metadata": {},
   "outputs": [],
   "source": [
    "from qiskit.visualization import plot_histogram\n",
    "\n",
    "plot_histogram(exp_measurement_result)"
   ]
  },
  {
   "cell_type": "markdown",
   "metadata": {},
   "source": [
    "As you can see, although the provability of 1 and 0 are theoretically equal (50%), when we execute shots and perform statistics, the resul is not 50%\n",
    "\n",
    "We will only get 50% if we take infinite shots\n",
    "\n",
    "This is not due to errors. The final Statevector is always the same, this is a statistical effect in the measure"
   ]
  },
  {
   "cell_type": "code",
   "execution_count": null,
   "metadata": {},
   "outputs": [],
   "source": [
    "import qiskit.tools.jupyter\n",
    "%qiskit_version_table"
   ]
  }
 ],
 "metadata": {
  "kernelspec": {
   "display_name": "Python 3 (ipykernel)",
   "language": "python",
   "name": "python3"
  },
  "language_info": {
   "codemirror_mode": {
    "name": "ipython",
    "version": 3
   },
   "file_extension": ".py",
   "mimetype": "text/x-python",
   "name": "python",
   "nbconvert_exporter": "python",
   "pygments_lexer": "ipython3",
   "version": "3.8.13"
  },
  "widgets": {
   "application/vnd.jupyter.widget-state+json": {
    "state": {},
    "version_major": 2,
    "version_minor": 0
   }
  }
 },
 "nbformat": 4,
 "nbformat_minor": 4
}
